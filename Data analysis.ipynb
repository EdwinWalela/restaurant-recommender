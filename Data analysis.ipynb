{
 "cells": [
  {
   "cell_type": "code",
   "execution_count": 1,
   "metadata": {},
   "outputs": [],
   "source": [
    "import numpy as np\n",
    "import pandas as pd\n",
    "import matplotlib.pyplot as plt\n",
    "import seaborn as sns\n",
    "%matplotlib inline"
   ]
  },
  {
   "cell_type": "code",
   "execution_count": 2,
   "metadata": {},
   "outputs": [],
   "source": [
    "user_profile = pd.read_csv('./data/userprofile.csv')"
   ]
  },
  {
   "cell_type": "code",
   "execution_count": 3,
   "metadata": {},
   "outputs": [],
   "source": [
    "user_payments = pd.read_csv('./data/userpayment.csv')"
   ]
  },
  {
   "cell_type": "code",
   "execution_count": 4,
   "metadata": {},
   "outputs": [],
   "source": [
    "user_cuisine = pd.read_csv('./data/usercuisine.csv')"
   ]
  },
  {
   "cell_type": "markdown",
   "metadata": {},
   "source": [
    "## User Profile: Data Cleaning"
   ]
  },
  {
   "cell_type": "code",
   "execution_count": 5,
   "metadata": {},
   "outputs": [
    {
     "data": {
      "text/plain": [
       "<matplotlib.axes._subplots.AxesSubplot at 0x2291d8a2e08>"
      ]
     },
     "execution_count": 5,
     "metadata": {},
     "output_type": "execute_result"
    },
    {
     "data": {
      "image/png": "[encoded data removed]",
      "text/plain": [
       "<Figure size 432x288 with 1 Axes>"
      ]
     },
     "metadata": {
      "needs_background": "light"
     },
     "output_type": "display_data"
    }
   ],
   "source": [
    "# Check for null values\n",
    "sns.heatmap(data=user_profile.isnull(),cbar=False,yticklabels=False)"
   ]
  },
  {
   "cell_type": "code",
   "execution_count": 6,
   "metadata": {},
   "outputs": [
    {
     "data": {
      "text/html": [
       "<div>\n",
       "<style scoped>\n",
       "    .dataframe tbody tr th:only-of-type {\n",
       "        vertical-align: middle;\n",
       "    }\n",
       "\n",
       "    .dataframe tbody tr th {\n",
       "        vertical-align: top;\n",
       "    }\n",
       "\n",
       "    .dataframe thead th {\n",
       "        text-align: right;\n",
       "    }\n",
       "</style>\n",
       "<table border=\"1\" class=\"dataframe\">\n",
       "  <thead>\n",
       "    <tr style=\"text-align: right;\">\n",
       "      <th></th>\n",
       "      <th>userID</th>\n",
       "      <th>latitude</th>\n",
       "      <th>longitude</th>\n",
       "      <th>smoker</th>\n",
       "      <th>drink_level</th>\n",
       "      <th>dress_preference</th>\n",
       "      <th>ambience</th>\n",
       "      <th>transport</th>\n",
       "      <th>marital_status</th>\n",
       "      <th>hijos</th>\n",
       "      <th>birth_year</th>\n",
       "      <th>interest</th>\n",
       "      <th>personality</th>\n",
       "      <th>religion</th>\n",
       "      <th>activity</th>\n",
       "      <th>color</th>\n",
       "      <th>weight</th>\n",
       "      <th>budget</th>\n",
       "      <th>height</th>\n",
       "    </tr>\n",
       "  </thead>\n",
       "  <tbody>\n",
       "    <tr>\n",
       "      <td>133</td>\n",
       "      <td>U1134</td>\n",
       "      <td>22.149654</td>\n",
       "      <td>-100.998610</td>\n",
       "      <td>false</td>\n",
       "      <td>casual drinker</td>\n",
       "      <td>no preference</td>\n",
       "      <td>family</td>\n",
       "      <td>public</td>\n",
       "      <td>single</td>\n",
       "      <td>independent</td>\n",
       "      <td>1991</td>\n",
       "      <td>variety</td>\n",
       "      <td>hard-worker</td>\n",
       "      <td>Catholic</td>\n",
       "      <td>student</td>\n",
       "      <td>black</td>\n",
       "      <td>52</td>\n",
       "      <td>medium</td>\n",
       "      <td>1.65</td>\n",
       "    </tr>\n",
       "    <tr>\n",
       "      <td>134</td>\n",
       "      <td>U1135</td>\n",
       "      <td>22.170396</td>\n",
       "      <td>-100.949936</td>\n",
       "      <td>false</td>\n",
       "      <td>casual drinker</td>\n",
       "      <td>informal</td>\n",
       "      <td>family</td>\n",
       "      <td>on foot</td>\n",
       "      <td>single</td>\n",
       "      <td>kids</td>\n",
       "      <td>1988</td>\n",
       "      <td>variety</td>\n",
       "      <td>hunter-ostentatious</td>\n",
       "      <td>Catholic</td>\n",
       "      <td>student</td>\n",
       "      <td>purple</td>\n",
       "      <td>66</td>\n",
       "      <td>low</td>\n",
       "      <td>1.54</td>\n",
       "    </tr>\n",
       "    <tr>\n",
       "      <td>135</td>\n",
       "      <td>U1136</td>\n",
       "      <td>22.149607</td>\n",
       "      <td>-100.997235</td>\n",
       "      <td>true</td>\n",
       "      <td>social drinker</td>\n",
       "      <td>no preference</td>\n",
       "      <td>friends</td>\n",
       "      <td>car owner</td>\n",
       "      <td>single</td>\n",
       "      <td>independent</td>\n",
       "      <td>1990</td>\n",
       "      <td>retro</td>\n",
       "      <td>thrifty-protector</td>\n",
       "      <td>Catholic</td>\n",
       "      <td>student</td>\n",
       "      <td>black</td>\n",
       "      <td>50</td>\n",
       "      <td>low</td>\n",
       "      <td>1.60</td>\n",
       "    </tr>\n",
       "    <tr>\n",
       "      <td>136</td>\n",
       "      <td>U1137</td>\n",
       "      <td>22.144803</td>\n",
       "      <td>-100.944623</td>\n",
       "      <td>false</td>\n",
       "      <td>social drinker</td>\n",
       "      <td>formal</td>\n",
       "      <td>family</td>\n",
       "      <td>public</td>\n",
       "      <td>single</td>\n",
       "      <td>independent</td>\n",
       "      <td>1989</td>\n",
       "      <td>eco-friendly</td>\n",
       "      <td>hard-worker</td>\n",
       "      <td>Catholic</td>\n",
       "      <td>student</td>\n",
       "      <td>blue</td>\n",
       "      <td>72</td>\n",
       "      <td>low</td>\n",
       "      <td>1.78</td>\n",
       "    </tr>\n",
       "    <tr>\n",
       "      <td>137</td>\n",
       "      <td>U1138</td>\n",
       "      <td>22.152884</td>\n",
       "      <td>-100.939663</td>\n",
       "      <td>false</td>\n",
       "      <td>social drinker</td>\n",
       "      <td>formal</td>\n",
       "      <td>friends</td>\n",
       "      <td>public</td>\n",
       "      <td>single</td>\n",
       "      <td>independent</td>\n",
       "      <td>1991</td>\n",
       "      <td>variety</td>\n",
       "      <td>thrifty-protector</td>\n",
       "      <td>none</td>\n",
       "      <td>student</td>\n",
       "      <td>blue</td>\n",
       "      <td>54</td>\n",
       "      <td>medium</td>\n",
       "      <td>1.55</td>\n",
       "    </tr>\n",
       "  </tbody>\n",
       "</table>\n",
       "</div>"
      ],
      "text/plain": [
       "    userID   latitude   longitude smoker     drink_level dress_preference  \\\n",
       "133  U1134  22.149654 -100.998610  false  casual drinker    no preference   \n",
       "134  U1135  22.170396 -100.949936  false  casual drinker         informal   \n",
       "135  U1136  22.149607 -100.997235   true  social drinker    no preference   \n",
       "136  U1137  22.144803 -100.944623  false  social drinker           formal   \n",
       "137  U1138  22.152884 -100.939663  false  social drinker           formal   \n",
       "\n",
       "    ambience  transport marital_status        hijos  birth_year      interest  \\\n",
       "133   family     public         single  independent        1991       variety   \n",
       "134   family    on foot         single         kids        1988       variety   \n",
       "135  friends  car owner         single  independent        1990         retro   \n",
       "136   family     public         single  independent        1989  eco-friendly   \n",
       "137  friends     public         single  independent        1991       variety   \n",
       "\n",
       "             personality  religion activity   color  weight  budget  height  \n",
       "133          hard-worker  Catholic  student   black      52  medium    1.65  \n",
       "134  hunter-ostentatious  Catholic  student  purple      66     low    1.54  \n",
       "135    thrifty-protector  Catholic  student   black      50     low    1.60  \n",
       "136          hard-worker  Catholic  student    blue      72     low    1.78  \n",
       "137    thrifty-protector      none  student    blue      54  medium    1.55  "
      ]
     },
     "execution_count": 6,
     "metadata": {},
     "output_type": "execute_result"
    }
   ],
   "source": [
    "user_profile.tail()"
   ]
  },
  {
   "cell_type": "code",
   "execution_count": 7,
   "metadata": {},
   "outputs": [],
   "source": [
    "# Drop unneccesary fetures\n",
    "user_profile.drop(['latitude','longitude','religion','hijos','color','weight','height'],axis=1,inplace=True)"
   ]
  },
  {
   "cell_type": "code",
   "execution_count": 8,
   "metadata": {},
   "outputs": [
    {
     "data": {
      "text/html": [
       "<div>\n",
       "<style scoped>\n",
       "    .dataframe tbody tr th:only-of-type {\n",
       "        vertical-align: middle;\n",
       "    }\n",
       "\n",
       "    .dataframe tbody tr th {\n",
       "        vertical-align: top;\n",
       "    }\n",
       "\n",
       "    .dataframe thead th {\n",
       "        text-align: right;\n",
       "    }\n",
       "</style>\n",
       "<table border=\"1\" class=\"dataframe\">\n",
       "  <thead>\n",
       "    <tr style=\"text-align: right;\">\n",
       "      <th></th>\n",
       "      <th>userID</th>\n",
       "      <th>Rcuisine</th>\n",
       "    </tr>\n",
       "  </thead>\n",
       "  <tbody>\n",
       "    <tr>\n",
       "      <td>325</td>\n",
       "      <td>U1135</td>\n",
       "      <td>Southern</td>\n",
       "    </tr>\n",
       "    <tr>\n",
       "      <td>326</td>\n",
       "      <td>U1135</td>\n",
       "      <td>Dessert-Ice_Cream</td>\n",
       "    </tr>\n",
       "    <tr>\n",
       "      <td>327</td>\n",
       "      <td>U1136</td>\n",
       "      <td>Mexican</td>\n",
       "    </tr>\n",
       "    <tr>\n",
       "      <td>328</td>\n",
       "      <td>U1137</td>\n",
       "      <td>Mexican</td>\n",
       "    </tr>\n",
       "    <tr>\n",
       "      <td>329</td>\n",
       "      <td>U1138</td>\n",
       "      <td>Pizzeria</td>\n",
       "    </tr>\n",
       "  </tbody>\n",
       "</table>\n",
       "</div>"
      ],
      "text/plain": [
       "    userID           Rcuisine\n",
       "325  U1135           Southern\n",
       "326  U1135  Dessert-Ice_Cream\n",
       "327  U1136            Mexican\n",
       "328  U1137            Mexican\n",
       "329  U1138           Pizzeria"
      ]
     },
     "execution_count": 8,
     "metadata": {},
     "output_type": "execute_result"
    }
   ],
   "source": [
    "user_cuisine.tail()"
   ]
  },
  {
   "cell_type": "code",
   "execution_count": 9,
   "metadata": {},
   "outputs": [
    {
     "data": {
      "text/plain": [
       "Mexican             97\n",
       "American            11\n",
       "Pizzeria             9\n",
       "Cafeteria            9\n",
       "Cafe-Coffee_Shop     8\n",
       "                    ..\n",
       "Cambodian            1\n",
       "Swiss                1\n",
       "British              1\n",
       "Brazilian            1\n",
       "Eclectic             1\n",
       "Name: Rcuisine, Length: 103, dtype: int64"
      ]
     },
     "execution_count": 9,
     "metadata": {},
     "output_type": "execute_result"
    }
   ],
   "source": [
    "user_cuisine['Rcuisine'].value_counts()"
   ]
  },
  {
   "cell_type": "code",
   "execution_count": 10,
   "metadata": {},
   "outputs": [],
   "source": [
    "# Establish users' preffered cuisine\n",
    "# ***Assumption: The first cuisine is the preffered users' cuisine\n",
    "def get_cuisine(userID):\n",
    "    return list(user_cuisine[user_cuisine['userID'] == userID]['Rcuisine'])[0]\n",
    "\n",
    "user_profile['preffered_cuisine'] = user_profile['userID'].apply(get_cuisine)"
   ]
  },
  {
   "cell_type": "code",
   "execution_count": 11,
   "metadata": {},
   "outputs": [
    {
     "data": {
      "text/plain": [
       "cash                   131\n",
       "bank_debit_cards        22\n",
       "VISA                    17\n",
       "MasterCard-Eurocard      4\n",
       "American_Express         3\n",
       "Name: Upayment, dtype: int64"
      ]
     },
     "execution_count": 11,
     "metadata": {},
     "output_type": "execute_result"
    }
   ],
   "source": [
    "user_payments['Upayment'].value_counts()"
   ]
  },
  {
   "cell_type": "code",
   "execution_count": 12,
   "metadata": {},
   "outputs": [],
   "source": [
    "# Ignore payment feature since most users use cash"
   ]
  },
  {
   "cell_type": "code",
   "execution_count": 13,
   "metadata": {},
   "outputs": [
    {
     "data": {
      "text/html": [
       "<div>\n",
       "<style scoped>\n",
       "    .dataframe tbody tr th:only-of-type {\n",
       "        vertical-align: middle;\n",
       "    }\n",
       "\n",
       "    .dataframe tbody tr th {\n",
       "        vertical-align: top;\n",
       "    }\n",
       "\n",
       "    .dataframe thead th {\n",
       "        text-align: right;\n",
       "    }\n",
       "</style>\n",
       "<table border=\"1\" class=\"dataframe\">\n",
       "  <thead>\n",
       "    <tr style=\"text-align: right;\">\n",
       "      <th></th>\n",
       "      <th>userID</th>\n",
       "      <th>smoker</th>\n",
       "      <th>drink_level</th>\n",
       "      <th>dress_preference</th>\n",
       "      <th>ambience</th>\n",
       "      <th>transport</th>\n",
       "      <th>marital_status</th>\n",
       "      <th>birth_year</th>\n",
       "      <th>interest</th>\n",
       "      <th>personality</th>\n",
       "      <th>activity</th>\n",
       "      <th>budget</th>\n",
       "      <th>preffered_cuisine</th>\n",
       "    </tr>\n",
       "  </thead>\n",
       "  <tbody>\n",
       "    <tr>\n",
       "      <td>0</td>\n",
       "      <td>U1001</td>\n",
       "      <td>false</td>\n",
       "      <td>abstemious</td>\n",
       "      <td>informal</td>\n",
       "      <td>family</td>\n",
       "      <td>on foot</td>\n",
       "      <td>single</td>\n",
       "      <td>1989</td>\n",
       "      <td>variety</td>\n",
       "      <td>thrifty-protector</td>\n",
       "      <td>student</td>\n",
       "      <td>medium</td>\n",
       "      <td>American</td>\n",
       "    </tr>\n",
       "    <tr>\n",
       "      <td>1</td>\n",
       "      <td>U1002</td>\n",
       "      <td>false</td>\n",
       "      <td>abstemious</td>\n",
       "      <td>informal</td>\n",
       "      <td>family</td>\n",
       "      <td>public</td>\n",
       "      <td>single</td>\n",
       "      <td>1990</td>\n",
       "      <td>technology</td>\n",
       "      <td>hunter-ostentatious</td>\n",
       "      <td>student</td>\n",
       "      <td>low</td>\n",
       "      <td>Mexican</td>\n",
       "    </tr>\n",
       "    <tr>\n",
       "      <td>2</td>\n",
       "      <td>U1003</td>\n",
       "      <td>false</td>\n",
       "      <td>social drinker</td>\n",
       "      <td>formal</td>\n",
       "      <td>family</td>\n",
       "      <td>public</td>\n",
       "      <td>single</td>\n",
       "      <td>1989</td>\n",
       "      <td>none</td>\n",
       "      <td>hard-worker</td>\n",
       "      <td>student</td>\n",
       "      <td>low</td>\n",
       "      <td>Mexican</td>\n",
       "    </tr>\n",
       "    <tr>\n",
       "      <td>3</td>\n",
       "      <td>U1004</td>\n",
       "      <td>false</td>\n",
       "      <td>abstemious</td>\n",
       "      <td>informal</td>\n",
       "      <td>family</td>\n",
       "      <td>public</td>\n",
       "      <td>single</td>\n",
       "      <td>1940</td>\n",
       "      <td>variety</td>\n",
       "      <td>hard-worker</td>\n",
       "      <td>professional</td>\n",
       "      <td>medium</td>\n",
       "      <td>Bakery</td>\n",
       "    </tr>\n",
       "    <tr>\n",
       "      <td>4</td>\n",
       "      <td>U1005</td>\n",
       "      <td>false</td>\n",
       "      <td>abstemious</td>\n",
       "      <td>no preference</td>\n",
       "      <td>family</td>\n",
       "      <td>public</td>\n",
       "      <td>single</td>\n",
       "      <td>1992</td>\n",
       "      <td>none</td>\n",
       "      <td>thrifty-protector</td>\n",
       "      <td>student</td>\n",
       "      <td>medium</td>\n",
       "      <td>American</td>\n",
       "    </tr>\n",
       "  </tbody>\n",
       "</table>\n",
       "</div>"
      ],
      "text/plain": [
       "  userID smoker     drink_level dress_preference ambience transport  \\\n",
       "0  U1001  false      abstemious         informal   family   on foot   \n",
       "1  U1002  false      abstemious         informal   family    public   \n",
       "2  U1003  false  social drinker           formal   family    public   \n",
       "3  U1004  false      abstemious         informal   family    public   \n",
       "4  U1005  false      abstemious    no preference   family    public   \n",
       "\n",
       "  marital_status  birth_year    interest          personality      activity  \\\n",
       "0         single        1989     variety    thrifty-protector       student   \n",
       "1         single        1990  technology  hunter-ostentatious       student   \n",
       "2         single        1989        none          hard-worker       student   \n",
       "3         single        1940     variety          hard-worker  professional   \n",
       "4         single        1992        none    thrifty-protector       student   \n",
       "\n",
       "   budget preffered_cuisine  \n",
       "0  medium          American  \n",
       "1     low           Mexican  \n",
       "2     low           Mexican  \n",
       "3  medium            Bakery  \n",
       "4  medium          American  "
      ]
     },
     "execution_count": 13,
     "metadata": {},
     "output_type": "execute_result"
    }
   ],
   "source": [
    "# Final User Profile Data\n",
    "user_profile.head()"
   ]
  },
  {
   "cell_type": "code",
   "execution_count": 14,
   "metadata": {},
   "outputs": [
    {
     "data": {
      "text/plain": [
       "<matplotlib.axes._subplots.AxesSubplot at 0x2291dc46b88>"
      ]
     },
     "execution_count": 14,
     "metadata": {},
     "output_type": "execute_result"
    },
    {
     "data": {
      "image/png": "[encoded data removed]",
      "text/plain": [
       "<Figure size 432x288 with 1 Axes>"
      ]
     },
     "metadata": {
      "needs_background": "light"
     },
     "output_type": "display_data"
    }
   ],
   "source": [
    "# Distribution of ages\n",
    "sns.distplot(user_profile['birth_year'],bins=30,kde=False)"
   ]
  },
  {
   "cell_type": "code",
   "execution_count": 15,
   "metadata": {},
   "outputs": [
    {
     "data": {
      "text/plain": [
       "abstemious        51\n",
       "casual drinker    47\n",
       "social drinker    40\n",
       "Name: drink_level, dtype: int64"
      ]
     },
     "execution_count": 15,
     "metadata": {},
     "output_type": "execute_result"
    }
   ],
   "source": [
    "user_profile['drink_level'].value_counts()"
   ]
  },
  {
   "cell_type": "code",
   "execution_count": 16,
   "metadata": {},
   "outputs": [],
   "source": [
    "drink_level = pd.get_dummies(data=user_profile['drink_level'],drop_first=True)\n",
    "user_profile = pd.concat([user_profile.reset_index(drop=True),drink_level.reset_index(drop=True)],axis=1)\n",
    "user_profile.drop('drink_level',axis=1,inplace=True)"
   ]
  },
  {
   "cell_type": "code",
   "execution_count": 17,
   "metadata": {},
   "outputs": [
    {
     "data": {
      "text/plain": [
       "no preference    53\n",
       "formal           41\n",
       "informal         35\n",
       "?                 5\n",
       "elegant           4\n",
       "Name: dress_preference, dtype: int64"
      ]
     },
     "execution_count": 17,
     "metadata": {},
     "output_type": "execute_result"
    }
   ],
   "source": [
    "user_profile['dress_preference'].value_counts()"
   ]
  },
  {
   "cell_type": "code",
   "execution_count": 18,
   "metadata": {},
   "outputs": [],
   "source": [
    "def dressing_encoder(criteria):\n",
    "    if criteria == 'no preference' or criteria == '?':\n",
    "        return 'no preference'\n",
    "    else:\n",
    "        return criteria\n",
    "\n",
    "user_profile['dress_preference'] = user_profile['dress_preference'].apply(dressing_encoder)"
   ]
  },
  {
   "cell_type": "code",
   "execution_count": 19,
   "metadata": {},
   "outputs": [],
   "source": [
    "def smoking_encoder(criteria):\n",
    "    if criteria == 'false' or criteria == '?':\n",
    "        return 0\n",
    "    else:\n",
    "        return 1\n",
    "\n",
    "user_profile['smoker'] = user_profile['smoker'].apply(smoking_encoder)"
   ]
  },
  {
   "cell_type": "code",
   "execution_count": 20,
   "metadata": {},
   "outputs": [],
   "source": [
    "def missing_encoder(criteria):\n",
    "    if criteria == '?':\n",
    "        return 'unknown'\n",
    "    else:\n",
    "        return criteria\n",
    "\n",
    "user_profile['ambience'] = user_profile['ambience'].apply(missing_encoder)\n",
    "user_profile['transport'] = user_profile['transport'].apply(missing_encoder)\n",
    "user_profile['marital_status'] = user_profile['marital_status'].apply(missing_encoder)\n",
    "user_profile['activity'] = user_profile['activity'].apply(missing_encoder)"
   ]
  },
  {
   "cell_type": "code",
   "execution_count": 21,
   "metadata": {},
   "outputs": [],
   "source": [
    "dressing = pd.get_dummies(data=user_profile['dress_preference'],drop_first=True)\n",
    "user_profile = pd.concat([user_profile.reset_index(drop=True),dressing.reset_index(drop=True)],axis=1)\n",
    "user_profile.drop(['dress_preference'],axis=1,inplace=True)"
   ]
  },
  {
   "cell_type": "code",
   "execution_count": 22,
   "metadata": {},
   "outputs": [],
   "source": [
    "personality = pd.get_dummies(data=user_profile['personality'],drop_first=True)\n",
    "user_profile = pd.concat([user_profile.reset_index(drop=True),personality.reset_index(drop=True)],axis=1)\n",
    "user_profile.drop(['personality'],axis=1,inplace=True)"
   ]
  },
  {
   "cell_type": "code",
   "execution_count": 23,
   "metadata": {},
   "outputs": [],
   "source": [
    "interest = pd.get_dummies(data=user_profile['interest'],drop_first=True)\n",
    "user_profile = pd.concat([user_profile.reset_index(drop=True),interest.reset_index(drop=True)],axis=1)\n",
    "user_profile.drop(['interest'],axis=1,inplace=True)"
   ]
  },
  {
   "cell_type": "code",
   "execution_count": 24,
   "metadata": {},
   "outputs": [],
   "source": [
    "ambience = pd.get_dummies(data=user_profile['ambience'],drop_first=True,prefix='ambience')\n",
    "user_profile = pd.concat([user_profile.reset_index(drop=True),ambience.reset_index(drop=True)],axis=1)\n",
    "user_profile.drop(['ambience'],axis=1,inplace=True)"
   ]
  },
  {
   "cell_type": "code",
   "execution_count": 46,
   "metadata": {},
   "outputs": [],
   "source": [
    "transport = pd.get_dummies(data=user_profile['transport'],drop_first=True,prefix='trans')\n",
    "user_profile = pd.concat([user_profile.reset_index(drop=True),transport.reset_index(drop=True)],axis=1)\n",
    "user_profile.drop(['transport'],axis=1,inplace=True)"
   ]
  },
  {
   "cell_type": "code",
   "execution_count": 49,
   "metadata": {},
   "outputs": [],
   "source": [
    "activity = pd.get_dummies(data=user_profile['activity'],drop_first=True,prefix='occ')\n",
    "user_profile = pd.concat([user_profile.reset_index(drop=True),activity.reset_index(drop=True)],axis=1)\n",
    "user_profile.drop(['activity'],axis=1,inplace=True)"
   ]
  },
  {
   "cell_type": "code",
   "execution_count": 54,
   "metadata": {},
   "outputs": [],
   "source": [
    "marital_status = pd.get_dummies(data=user_profile['marital_status'],drop_first=True,prefix='marital')\n",
    "user_profile = pd.concat([user_profile.reset_index(drop=True),marital_status.reset_index(drop=True)],axis=1)\n",
    "user_profile.drop(['marital_status'],axis=1,inplace=True)"
   ]
  },
  {
   "cell_type": "code",
   "execution_count": 55,
   "metadata": {},
   "outputs": [
    {
     "data": {
      "text/html": [
       "<div>\n",
       "<style scoped>\n",
       "    .dataframe tbody tr th:only-of-type {\n",
       "        vertical-align: middle;\n",
       "    }\n",
       "\n",
       "    .dataframe tbody tr th {\n",
       "        vertical-align: top;\n",
       "    }\n",
       "\n",
       "    .dataframe thead th {\n",
       "        text-align: right;\n",
       "    }\n",
       "</style>\n",
       "<table border=\"1\" class=\"dataframe\">\n",
       "  <thead>\n",
       "    <tr style=\"text-align: right;\">\n",
       "      <th></th>\n",
       "      <th>userID</th>\n",
       "      <th>smoker</th>\n",
       "      <th>birth_year</th>\n",
       "      <th>budget</th>\n",
       "      <th>preffered_cuisine</th>\n",
       "      <th>casual drinker</th>\n",
       "      <th>social drinker</th>\n",
       "      <th>formal</th>\n",
       "      <th>informal</th>\n",
       "      <th>no preference</th>\n",
       "      <th>...</th>\n",
       "      <th>trans_on foot</th>\n",
       "      <th>trans_public</th>\n",
       "      <th>trans_unknown</th>\n",
       "      <th>occ_student</th>\n",
       "      <th>occ_unemployed</th>\n",
       "      <th>occ_unknown</th>\n",
       "      <th>occ_working-class</th>\n",
       "      <th>marital_single</th>\n",
       "      <th>marital_unknown</th>\n",
       "      <th>marital_widow</th>\n",
       "    </tr>\n",
       "  </thead>\n",
       "  <tbody>\n",
       "    <tr>\n",
       "      <td>0</td>\n",
       "      <td>U1001</td>\n",
       "      <td>0</td>\n",
       "      <td>1989</td>\n",
       "      <td>medium</td>\n",
       "      <td>American</td>\n",
       "      <td>0</td>\n",
       "      <td>0</td>\n",
       "      <td>0</td>\n",
       "      <td>1</td>\n",
       "      <td>0</td>\n",
       "      <td>...</td>\n",
       "      <td>1</td>\n",
       "      <td>0</td>\n",
       "      <td>0</td>\n",
       "      <td>1</td>\n",
       "      <td>0</td>\n",
       "      <td>0</td>\n",
       "      <td>0</td>\n",
       "      <td>1</td>\n",
       "      <td>0</td>\n",
       "      <td>0</td>\n",
       "    </tr>\n",
       "    <tr>\n",
       "      <td>1</td>\n",
       "      <td>U1002</td>\n",
       "      <td>0</td>\n",
       "      <td>1990</td>\n",
       "      <td>low</td>\n",
       "      <td>Mexican</td>\n",
       "      <td>0</td>\n",
       "      <td>0</td>\n",
       "      <td>0</td>\n",
       "      <td>1</td>\n",
       "      <td>0</td>\n",
       "      <td>...</td>\n",
       "      <td>0</td>\n",
       "      <td>1</td>\n",
       "      <td>0</td>\n",
       "      <td>1</td>\n",
       "      <td>0</td>\n",
       "      <td>0</td>\n",
       "      <td>0</td>\n",
       "      <td>1</td>\n",
       "      <td>0</td>\n",
       "      <td>0</td>\n",
       "    </tr>\n",
       "    <tr>\n",
       "      <td>2</td>\n",
       "      <td>U1003</td>\n",
       "      <td>0</td>\n",
       "      <td>1989</td>\n",
       "      <td>low</td>\n",
       "      <td>Mexican</td>\n",
       "      <td>0</td>\n",
       "      <td>1</td>\n",
       "      <td>1</td>\n",
       "      <td>0</td>\n",
       "      <td>0</td>\n",
       "      <td>...</td>\n",
       "      <td>0</td>\n",
       "      <td>1</td>\n",
       "      <td>0</td>\n",
       "      <td>1</td>\n",
       "      <td>0</td>\n",
       "      <td>0</td>\n",
       "      <td>0</td>\n",
       "      <td>1</td>\n",
       "      <td>0</td>\n",
       "      <td>0</td>\n",
       "    </tr>\n",
       "    <tr>\n",
       "      <td>3</td>\n",
       "      <td>U1004</td>\n",
       "      <td>0</td>\n",
       "      <td>1940</td>\n",
       "      <td>medium</td>\n",
       "      <td>Bakery</td>\n",
       "      <td>0</td>\n",
       "      <td>0</td>\n",
       "      <td>0</td>\n",
       "      <td>1</td>\n",
       "      <td>0</td>\n",
       "      <td>...</td>\n",
       "      <td>0</td>\n",
       "      <td>1</td>\n",
       "      <td>0</td>\n",
       "      <td>0</td>\n",
       "      <td>0</td>\n",
       "      <td>0</td>\n",
       "      <td>0</td>\n",
       "      <td>1</td>\n",
       "      <td>0</td>\n",
       "      <td>0</td>\n",
       "    </tr>\n",
       "    <tr>\n",
       "      <td>4</td>\n",
       "      <td>U1005</td>\n",
       "      <td>0</td>\n",
       "      <td>1992</td>\n",
       "      <td>medium</td>\n",
       "      <td>American</td>\n",
       "      <td>0</td>\n",
       "      <td>0</td>\n",
       "      <td>0</td>\n",
       "      <td>0</td>\n",
       "      <td>1</td>\n",
       "      <td>...</td>\n",
       "      <td>0</td>\n",
       "      <td>1</td>\n",
       "      <td>0</td>\n",
       "      <td>1</td>\n",
       "      <td>0</td>\n",
       "      <td>0</td>\n",
       "      <td>0</td>\n",
       "      <td>1</td>\n",
       "      <td>0</td>\n",
       "      <td>0</td>\n",
       "    </tr>\n",
       "  </tbody>\n",
       "</table>\n",
       "<p>5 rows × 30 columns</p>\n",
       "</div>"
      ],
      "text/plain": [
       "  userID  smoker  birth_year  budget preffered_cuisine  casual drinker  \\\n",
       "0  U1001       0        1989  medium          American               0   \n",
       "1  U1002       0        1990     low           Mexican               0   \n",
       "2  U1003       0        1989     low           Mexican               0   \n",
       "3  U1004       0        1940  medium            Bakery               0   \n",
       "4  U1005       0        1992  medium          American               0   \n",
       "\n",
       "   social drinker  formal  informal  no preference  ...  trans_on foot  \\\n",
       "0               0       0         1              0  ...              1   \n",
       "1               0       0         1              0  ...              0   \n",
       "2               1       1         0              0  ...              0   \n",
       "3               0       0         1              0  ...              0   \n",
       "4               0       0         0              1  ...              0   \n",
       "\n",
       "   trans_public  trans_unknown  occ_student  occ_unemployed  occ_unknown  \\\n",
       "0             0              0            1               0            0   \n",
       "1             1              0            1               0            0   \n",
       "2             1              0            1               0            0   \n",
       "3             1              0            0               0            0   \n",
       "4             1              0            1               0            0   \n",
       "\n",
       "   occ_working-class  marital_single  marital_unknown  marital_widow  \n",
       "0                  0               1                0              0  \n",
       "1                  0               1                0              0  \n",
       "2                  0               1                0              0  \n",
       "3                  0               1                0              0  \n",
       "4                  0               1                0              0  \n",
       "\n",
       "[5 rows x 30 columns]"
      ]
     },
     "execution_count": 55,
     "metadata": {},
     "output_type": "execute_result"
    }
   ],
   "source": [
    "user_profile.head()"
   ]
  },
  {
   "cell_type": "markdown",
   "metadata": {},
   "source": [
    "## Places: Data Cleaning"
   ]
  },
  {
   "cell_type": "code",
   "execution_count": 26,
   "metadata": {},
   "outputs": [],
   "source": [
    "restaurants = pd.read_csv('./data/geoplaces2.csv')"
   ]
  },
  {
   "cell_type": "code",
   "execution_count": 27,
   "metadata": {},
   "outputs": [
    {
     "data": {
      "text/html": [
       "<div>\n",
       "<style scoped>\n",
       "    .dataframe tbody tr th:only-of-type {\n",
       "        vertical-align: middle;\n",
       "    }\n",
       "\n",
       "    .dataframe tbody tr th {\n",
       "        vertical-align: top;\n",
       "    }\n",
       "\n",
       "    .dataframe thead th {\n",
       "        text-align: right;\n",
       "    }\n",
       "</style>\n",
       "<table border=\"1\" class=\"dataframe\">\n",
       "  <thead>\n",
       "    <tr style=\"text-align: right;\">\n",
       "      <th></th>\n",
       "      <th>placeID</th>\n",
       "      <th>latitude</th>\n",
       "      <th>longitude</th>\n",
       "      <th>the_geom_meter</th>\n",
       "      <th>name</th>\n",
       "      <th>address</th>\n",
       "      <th>city</th>\n",
       "      <th>state</th>\n",
       "      <th>country</th>\n",
       "      <th>fax</th>\n",
       "      <th>...</th>\n",
       "      <th>alcohol</th>\n",
       "      <th>smoking_area</th>\n",
       "      <th>dress_code</th>\n",
       "      <th>accessibility</th>\n",
       "      <th>price</th>\n",
       "      <th>url</th>\n",
       "      <th>Rambience</th>\n",
       "      <th>franchise</th>\n",
       "      <th>area</th>\n",
       "      <th>other_services</th>\n",
       "    </tr>\n",
       "  </thead>\n",
       "  <tbody>\n",
       "    <tr>\n",
       "      <td>0</td>\n",
       "      <td>134999</td>\n",
       "      <td>18.915421</td>\n",
       "      <td>-99.184871</td>\n",
       "      <td>0101000020957F000088568DE356715AC138C0A525FC46...</td>\n",
       "      <td>Kiku Cuernavaca</td>\n",
       "      <td>Revolucion</td>\n",
       "      <td>Cuernavaca</td>\n",
       "      <td>Morelos</td>\n",
       "      <td>Mexico</td>\n",
       "      <td>?</td>\n",
       "      <td>...</td>\n",
       "      <td>No_Alcohol_Served</td>\n",
       "      <td>none</td>\n",
       "      <td>informal</td>\n",
       "      <td>no_accessibility</td>\n",
       "      <td>medium</td>\n",
       "      <td>kikucuernavaca.com.mx</td>\n",
       "      <td>familiar</td>\n",
       "      <td>f</td>\n",
       "      <td>closed</td>\n",
       "      <td>none</td>\n",
       "    </tr>\n",
       "    <tr>\n",
       "      <td>1</td>\n",
       "      <td>132825</td>\n",
       "      <td>22.147392</td>\n",
       "      <td>-100.983092</td>\n",
       "      <td>0101000020957F00001AD016568C4858C1243261274BA5...</td>\n",
       "      <td>puesto de tacos</td>\n",
       "      <td>esquina santos degollado y leon guzman</td>\n",
       "      <td>s.l.p.</td>\n",
       "      <td>s.l.p.</td>\n",
       "      <td>mexico</td>\n",
       "      <td>?</td>\n",
       "      <td>...</td>\n",
       "      <td>No_Alcohol_Served</td>\n",
       "      <td>none</td>\n",
       "      <td>informal</td>\n",
       "      <td>completely</td>\n",
       "      <td>low</td>\n",
       "      <td>?</td>\n",
       "      <td>familiar</td>\n",
       "      <td>f</td>\n",
       "      <td>open</td>\n",
       "      <td>none</td>\n",
       "    </tr>\n",
       "    <tr>\n",
       "      <td>2</td>\n",
       "      <td>135106</td>\n",
       "      <td>22.149709</td>\n",
       "      <td>-100.976093</td>\n",
       "      <td>0101000020957F0000649D6F21634858C119AE9BF528A3...</td>\n",
       "      <td>El Rinc�n de San Francisco</td>\n",
       "      <td>Universidad 169</td>\n",
       "      <td>San Luis Potosi</td>\n",
       "      <td>San Luis Potosi</td>\n",
       "      <td>Mexico</td>\n",
       "      <td>?</td>\n",
       "      <td>...</td>\n",
       "      <td>Wine-Beer</td>\n",
       "      <td>only at bar</td>\n",
       "      <td>informal</td>\n",
       "      <td>partially</td>\n",
       "      <td>medium</td>\n",
       "      <td>?</td>\n",
       "      <td>familiar</td>\n",
       "      <td>f</td>\n",
       "      <td>open</td>\n",
       "      <td>none</td>\n",
       "    </tr>\n",
       "    <tr>\n",
       "      <td>3</td>\n",
       "      <td>132667</td>\n",
       "      <td>23.752697</td>\n",
       "      <td>-99.163359</td>\n",
       "      <td>0101000020957F00005D67BCDDED8157C1222A2DC8D84D...</td>\n",
       "      <td>little pizza Emilio Portes Gil</td>\n",
       "      <td>calle emilio portes gil</td>\n",
       "      <td>victoria</td>\n",
       "      <td>tamaulipas</td>\n",
       "      <td>?</td>\n",
       "      <td>?</td>\n",
       "      <td>...</td>\n",
       "      <td>No_Alcohol_Served</td>\n",
       "      <td>none</td>\n",
       "      <td>informal</td>\n",
       "      <td>completely</td>\n",
       "      <td>low</td>\n",
       "      <td>?</td>\n",
       "      <td>familiar</td>\n",
       "      <td>t</td>\n",
       "      <td>closed</td>\n",
       "      <td>none</td>\n",
       "    </tr>\n",
       "    <tr>\n",
       "      <td>4</td>\n",
       "      <td>132613</td>\n",
       "      <td>23.752903</td>\n",
       "      <td>-99.165076</td>\n",
       "      <td>0101000020957F00008EBA2D06DC8157C194E03B7B504E...</td>\n",
       "      <td>carnitas_mata</td>\n",
       "      <td>lic. Emilio portes gil</td>\n",
       "      <td>victoria</td>\n",
       "      <td>Tamaulipas</td>\n",
       "      <td>Mexico</td>\n",
       "      <td>?</td>\n",
       "      <td>...</td>\n",
       "      <td>No_Alcohol_Served</td>\n",
       "      <td>permitted</td>\n",
       "      <td>informal</td>\n",
       "      <td>completely</td>\n",
       "      <td>medium</td>\n",
       "      <td>?</td>\n",
       "      <td>familiar</td>\n",
       "      <td>t</td>\n",
       "      <td>closed</td>\n",
       "      <td>none</td>\n",
       "    </tr>\n",
       "  </tbody>\n",
       "</table>\n",
       "<p>5 rows × 21 columns</p>\n",
       "</div>"
      ],
      "text/plain": [
       "   placeID   latitude   longitude  \\\n",
       "0   134999  18.915421  -99.184871   \n",
       "1   132825  22.147392 -100.983092   \n",
       "2   135106  22.149709 -100.976093   \n",
       "3   132667  23.752697  -99.163359   \n",
       "4   132613  23.752903  -99.165076   \n",
       "\n",
       "                                      the_geom_meter  \\\n",
       "0  0101000020957F000088568DE356715AC138C0A525FC46...   \n",
       "1  0101000020957F00001AD016568C4858C1243261274BA5...   \n",
       "2  0101000020957F0000649D6F21634858C119AE9BF528A3...   \n",
       "3  0101000020957F00005D67BCDDED8157C1222A2DC8D84D...   \n",
       "4  0101000020957F00008EBA2D06DC8157C194E03B7B504E...   \n",
       "\n",
       "                             name                                 address  \\\n",
       "0                 Kiku Cuernavaca                              Revolucion   \n",
       "1                 puesto de tacos  esquina santos degollado y leon guzman   \n",
       "2      El Rinc�n de San Francisco                         Universidad 169   \n",
       "3  little pizza Emilio Portes Gil                 calle emilio portes gil   \n",
       "4                   carnitas_mata                  lic. Emilio portes gil   \n",
       "\n",
       "              city            state country fax  ...            alcohol  \\\n",
       "0       Cuernavaca          Morelos  Mexico   ?  ...  No_Alcohol_Served   \n",
       "1           s.l.p.           s.l.p.  mexico   ?  ...  No_Alcohol_Served   \n",
       "2  San Luis Potosi  San Luis Potosi  Mexico   ?  ...          Wine-Beer   \n",
       "3        victoria        tamaulipas       ?   ?  ...  No_Alcohol_Served   \n",
       "4         victoria       Tamaulipas  Mexico   ?  ...  No_Alcohol_Served   \n",
       "\n",
       "  smoking_area dress_code     accessibility   price                    url  \\\n",
       "0         none   informal  no_accessibility  medium  kikucuernavaca.com.mx   \n",
       "1         none   informal        completely     low                      ?   \n",
       "2  only at bar   informal         partially  medium                      ?   \n",
       "3         none   informal        completely     low                      ?   \n",
       "4    permitted   informal        completely  medium                      ?   \n",
       "\n",
       "  Rambience franchise    area other_services  \n",
       "0  familiar         f  closed           none  \n",
       "1  familiar         f    open           none  \n",
       "2  familiar         f    open           none  \n",
       "3  familiar         t  closed           none  \n",
       "4  familiar         t  closed           none  \n",
       "\n",
       "[5 rows x 21 columns]"
      ]
     },
     "execution_count": 27,
     "metadata": {},
     "output_type": "execute_result"
    }
   ],
   "source": [
    "restaurants.head()"
   ]
  },
  {
   "cell_type": "code",
   "execution_count": 28,
   "metadata": {},
   "outputs": [],
   "source": [
    "# Drop unneccesary features\n",
    "restaurants.drop(['latitude','longitude','the_geom_meter','address','city','state','fax'],axis=1,inplace=True)"
   ]
  },
  {
   "cell_type": "code",
   "execution_count": 29,
   "metadata": {},
   "outputs": [],
   "source": [
    "restaurants.drop(['zip','url','other_services'],axis=1,inplace=True)"
   ]
  },
  {
   "cell_type": "code",
   "execution_count": 30,
   "metadata": {},
   "outputs": [
    {
     "data": {
      "text/html": [
       "<div>\n",
       "<style scoped>\n",
       "    .dataframe tbody tr th:only-of-type {\n",
       "        vertical-align: middle;\n",
       "    }\n",
       "\n",
       "    .dataframe tbody tr th {\n",
       "        vertical-align: top;\n",
       "    }\n",
       "\n",
       "    .dataframe thead th {\n",
       "        text-align: right;\n",
       "    }\n",
       "</style>\n",
       "<table border=\"1\" class=\"dataframe\">\n",
       "  <thead>\n",
       "    <tr style=\"text-align: right;\">\n",
       "      <th></th>\n",
       "      <th>placeID</th>\n",
       "      <th>name</th>\n",
       "      <th>country</th>\n",
       "      <th>alcohol</th>\n",
       "      <th>smoking_area</th>\n",
       "      <th>dress_code</th>\n",
       "      <th>accessibility</th>\n",
       "      <th>price</th>\n",
       "      <th>Rambience</th>\n",
       "      <th>franchise</th>\n",
       "      <th>area</th>\n",
       "    </tr>\n",
       "  </thead>\n",
       "  <tbody>\n",
       "    <tr>\n",
       "      <td>125</td>\n",
       "      <td>132866</td>\n",
       "      <td>Chaires</td>\n",
       "      <td>Mexico</td>\n",
       "      <td>No_Alcohol_Served</td>\n",
       "      <td>not permitted</td>\n",
       "      <td>informal</td>\n",
       "      <td>completely</td>\n",
       "      <td>medium</td>\n",
       "      <td>familiar</td>\n",
       "      <td>f</td>\n",
       "      <td>closed</td>\n",
       "    </tr>\n",
       "    <tr>\n",
       "      <td>126</td>\n",
       "      <td>135072</td>\n",
       "      <td>Sushi Itto</td>\n",
       "      <td>Mexico</td>\n",
       "      <td>No_Alcohol_Served</td>\n",
       "      <td>none</td>\n",
       "      <td>informal</td>\n",
       "      <td>no_accessibility</td>\n",
       "      <td>medium</td>\n",
       "      <td>familiar</td>\n",
       "      <td>f</td>\n",
       "      <td>closed</td>\n",
       "    </tr>\n",
       "    <tr>\n",
       "      <td>127</td>\n",
       "      <td>135109</td>\n",
       "      <td>Paniroles</td>\n",
       "      <td>?</td>\n",
       "      <td>Wine-Beer</td>\n",
       "      <td>not permitted</td>\n",
       "      <td>informal</td>\n",
       "      <td>no_accessibility</td>\n",
       "      <td>medium</td>\n",
       "      <td>quiet</td>\n",
       "      <td>f</td>\n",
       "      <td>closed</td>\n",
       "    </tr>\n",
       "    <tr>\n",
       "      <td>128</td>\n",
       "      <td>135019</td>\n",
       "      <td>Restaurant Bar Coty y Pablo</td>\n",
       "      <td>Mexico</td>\n",
       "      <td>No_Alcohol_Served</td>\n",
       "      <td>none</td>\n",
       "      <td>informal</td>\n",
       "      <td>completely</td>\n",
       "      <td>low</td>\n",
       "      <td>familiar</td>\n",
       "      <td>f</td>\n",
       "      <td>closed</td>\n",
       "    </tr>\n",
       "    <tr>\n",
       "      <td>129</td>\n",
       "      <td>132877</td>\n",
       "      <td>sirloin stockade</td>\n",
       "      <td>?</td>\n",
       "      <td>No_Alcohol_Served</td>\n",
       "      <td>none</td>\n",
       "      <td>informal</td>\n",
       "      <td>completely</td>\n",
       "      <td>low</td>\n",
       "      <td>familiar</td>\n",
       "      <td>f</td>\n",
       "      <td>closed</td>\n",
       "    </tr>\n",
       "  </tbody>\n",
       "</table>\n",
       "</div>"
      ],
      "text/plain": [
       "     placeID                         name country            alcohol  \\\n",
       "125   132866                      Chaires  Mexico  No_Alcohol_Served   \n",
       "126   135072                   Sushi Itto  Mexico  No_Alcohol_Served   \n",
       "127   135109                    Paniroles       ?          Wine-Beer   \n",
       "128   135019  Restaurant Bar Coty y Pablo  Mexico  No_Alcohol_Served   \n",
       "129   132877             sirloin stockade       ?  No_Alcohol_Served   \n",
       "\n",
       "      smoking_area dress_code     accessibility   price Rambience franchise  \\\n",
       "125  not permitted   informal        completely  medium  familiar         f   \n",
       "126           none   informal  no_accessibility  medium  familiar         f   \n",
       "127  not permitted   informal  no_accessibility  medium     quiet         f   \n",
       "128           none   informal        completely     low  familiar         f   \n",
       "129           none   informal        completely     low  familiar         f   \n",
       "\n",
       "       area  \n",
       "125  closed  \n",
       "126  closed  \n",
       "127  closed  \n",
       "128  closed  \n",
       "129  closed  "
      ]
     },
     "execution_count": 30,
     "metadata": {},
     "output_type": "execute_result"
    }
   ],
   "source": [
    "restaurants.tail()"
   ]
  },
  {
   "cell_type": "code",
   "execution_count": 31,
   "metadata": {},
   "outputs": [
    {
     "data": {
      "text/plain": [
       "none             70\n",
       "not permitted    25\n",
       "section          24\n",
       "permitted         9\n",
       "only at bar       2\n",
       "Name: smoking_area, dtype: int64"
      ]
     },
     "execution_count": 31,
     "metadata": {},
     "output_type": "execute_result"
    }
   ],
   "source": [
    "restaurants['smoking_area'].value_counts()"
   ]
  },
  {
   "cell_type": "code",
   "execution_count": 32,
   "metadata": {},
   "outputs": [],
   "source": [
    "def smoking_combiner(criteria):\n",
    "    if criteria == 'none' or criteria == 'not permitted':\n",
    "        return 0\n",
    "    else:\n",
    "        return 1\n",
    "restaurants['smoking_area'] = restaurants['smoking_area'].apply(smoking_combiner)"
   ]
  },
  {
   "cell_type": "code",
   "execution_count": 33,
   "metadata": {},
   "outputs": [],
   "source": [
    "def access_combiner(criteria):\n",
    "    if criteria == 'completely':\n",
    "        return 'full'\n",
    "    elif criteria == 'no_accessibility':\n",
    "        return 'none'\n",
    "    else:\n",
    "        return 'partial'\n",
    "restaurants['accessibility'] = restaurants['accessibility'].apply(access_combiner)"
   ]
  },
  {
   "cell_type": "code",
   "execution_count": 34,
   "metadata": {},
   "outputs": [
    {
     "data": {
      "text/plain": [
       "informal    118\n",
       "casual       10\n",
       "formal        2\n",
       "Name: dress_code, dtype: int64"
      ]
     },
     "execution_count": 34,
     "metadata": {},
     "output_type": "execute_result"
    }
   ],
   "source": [
    "restaurants['dress_code'].value_counts()"
   ]
  },
  {
   "cell_type": "code",
   "execution_count": 35,
   "metadata": {},
   "outputs": [],
   "source": [
    "dress_code = pd.get_dummies(restaurants['dress_code'],drop_first=True)\n",
    "restaurants = pd.concat([restaurants.reset_index(drop=True),dress_code.reset_index(drop=True)],axis=1)\n",
    "restaurants.drop(['dress_code'],axis=1,inplace=True)"
   ]
  },
  {
   "cell_type": "code",
   "execution_count": 36,
   "metadata": {},
   "outputs": [],
   "source": [
    "def alcohol_combiner(criteria):\n",
    "    if criteria == 'No_Alcohol_Served':\n",
    "        return 'not_served'\n",
    "    elif criteria == 'Wine-Beer':\n",
    "        return 'served'\n",
    "    else:\n",
    "        return 'Full_Bar'\n",
    "restaurants['alcohol'] = restaurants['alcohol'].apply(alcohol_combiner)"
   ]
  },
  {
   "cell_type": "code",
   "execution_count": 37,
   "metadata": {},
   "outputs": [],
   "source": [
    "accessibility = pd.get_dummies(restaurants['accessibility'],drop_first=True,prefix='accessibility')\n",
    "restaurants = pd.concat([restaurants.reset_index(drop=True),accessibility.reset_index(drop=True)],axis=1)\n",
    "restaurants.drop(['accessibility'],axis=1,inplace=True)"
   ]
  },
  {
   "cell_type": "code",
   "execution_count": null,
   "metadata": {},
   "outputs": [],
   "source": []
  },
  {
   "cell_type": "code",
   "execution_count": 38,
   "metadata": {},
   "outputs": [],
   "source": [
    "price = pd.get_dummies(restaurants['price'],drop_first=True,prefix='budget')\n",
    "restaurants = pd.concat([restaurants.reset_index(drop=True),price.reset_index(drop=True)],axis=1)\n",
    "restaurants.drop(['price'],axis=1,inplace=True)"
   ]
  },
  {
   "cell_type": "code",
   "execution_count": 39,
   "metadata": {},
   "outputs": [],
   "source": [
    "ambience = pd.get_dummies(restaurants['Rambience'],drop_first=True,prefix='ambience')\n",
    "restaurants = pd.concat([restaurants.reset_index(drop=True),ambience.reset_index(drop=True)],axis=1)\n",
    "restaurants.drop(['Rambience'],axis=1,inplace=True)"
   ]
  },
  {
   "cell_type": "code",
   "execution_count": 40,
   "metadata": {},
   "outputs": [],
   "source": [
    "franchise = pd.get_dummies(restaurants['franchise'],drop_first=True,prefix='franchise')\n",
    "restaurants = pd.concat([restaurants.reset_index(drop=True),franchise.reset_index(drop=True)],axis=1)\n",
    "restaurants.drop(['franchise'],axis=1,inplace=True)"
   ]
  },
  {
   "cell_type": "code",
   "execution_count": 41,
   "metadata": {},
   "outputs": [],
   "source": [
    "area = pd.get_dummies(restaurants['area'],drop_first=True,prefix='area')\n",
    "restaurants = pd.concat([restaurants.reset_index(drop=True),area.reset_index(drop=True)],axis=1)\n",
    "restaurants.drop(['area'],axis=1,inplace=True)"
   ]
  },
  {
   "cell_type": "code",
   "execution_count": 42,
   "metadata": {},
   "outputs": [],
   "source": [
    "alcohol = pd.get_dummies(restaurants['alcohol'],drop_first=True,prefix='alcohol')\n",
    "restaurants = pd.concat([restaurants.reset_index(drop=True),alcohol.reset_index(drop=True)],axis=1)\n",
    "restaurants.drop(['alcohol'],axis=1,inplace=True)"
   ]
  },
  {
   "cell_type": "code",
   "execution_count": 43,
   "metadata": {},
   "outputs": [],
   "source": [
    "restaurants.drop('country',axis=1,inplace=True)"
   ]
  },
  {
   "cell_type": "code",
   "execution_count": 44,
   "metadata": {},
   "outputs": [
    {
     "data": {
      "text/html": [
       "<div>\n",
       "<style scoped>\n",
       "    .dataframe tbody tr th:only-of-type {\n",
       "        vertical-align: middle;\n",
       "    }\n",
       "\n",
       "    .dataframe tbody tr th {\n",
       "        vertical-align: top;\n",
       "    }\n",
       "\n",
       "    .dataframe thead th {\n",
       "        text-align: right;\n",
       "    }\n",
       "</style>\n",
       "<table border=\"1\" class=\"dataframe\">\n",
       "  <thead>\n",
       "    <tr style=\"text-align: right;\">\n",
       "      <th></th>\n",
       "      <th>placeID</th>\n",
       "      <th>name</th>\n",
       "      <th>smoking_area</th>\n",
       "      <th>formal</th>\n",
       "      <th>informal</th>\n",
       "      <th>accessibility_none</th>\n",
       "      <th>accessibility_partial</th>\n",
       "      <th>budget_low</th>\n",
       "      <th>budget_medium</th>\n",
       "      <th>ambience_quiet</th>\n",
       "      <th>franchise_t</th>\n",
       "      <th>area_open</th>\n",
       "      <th>alcohol_not_served</th>\n",
       "      <th>alcohol_served</th>\n",
       "    </tr>\n",
       "  </thead>\n",
       "  <tbody>\n",
       "    <tr>\n",
       "      <td>0</td>\n",
       "      <td>134999</td>\n",
       "      <td>Kiku Cuernavaca</td>\n",
       "      <td>0</td>\n",
       "      <td>0</td>\n",
       "      <td>1</td>\n",
       "      <td>1</td>\n",
       "      <td>0</td>\n",
       "      <td>0</td>\n",
       "      <td>1</td>\n",
       "      <td>0</td>\n",
       "      <td>0</td>\n",
       "      <td>0</td>\n",
       "      <td>1</td>\n",
       "      <td>0</td>\n",
       "    </tr>\n",
       "    <tr>\n",
       "      <td>1</td>\n",
       "      <td>132825</td>\n",
       "      <td>puesto de tacos</td>\n",
       "      <td>0</td>\n",
       "      <td>0</td>\n",
       "      <td>1</td>\n",
       "      <td>0</td>\n",
       "      <td>0</td>\n",
       "      <td>1</td>\n",
       "      <td>0</td>\n",
       "      <td>0</td>\n",
       "      <td>0</td>\n",
       "      <td>1</td>\n",
       "      <td>1</td>\n",
       "      <td>0</td>\n",
       "    </tr>\n",
       "    <tr>\n",
       "      <td>2</td>\n",
       "      <td>135106</td>\n",
       "      <td>El Rinc�n de San Francisco</td>\n",
       "      <td>1</td>\n",
       "      <td>0</td>\n",
       "      <td>1</td>\n",
       "      <td>0</td>\n",
       "      <td>1</td>\n",
       "      <td>0</td>\n",
       "      <td>1</td>\n",
       "      <td>0</td>\n",
       "      <td>0</td>\n",
       "      <td>1</td>\n",
       "      <td>0</td>\n",
       "      <td>1</td>\n",
       "    </tr>\n",
       "    <tr>\n",
       "      <td>3</td>\n",
       "      <td>132667</td>\n",
       "      <td>little pizza Emilio Portes Gil</td>\n",
       "      <td>0</td>\n",
       "      <td>0</td>\n",
       "      <td>1</td>\n",
       "      <td>0</td>\n",
       "      <td>0</td>\n",
       "      <td>1</td>\n",
       "      <td>0</td>\n",
       "      <td>0</td>\n",
       "      <td>1</td>\n",
       "      <td>0</td>\n",
       "      <td>1</td>\n",
       "      <td>0</td>\n",
       "    </tr>\n",
       "    <tr>\n",
       "      <td>4</td>\n",
       "      <td>132613</td>\n",
       "      <td>carnitas_mata</td>\n",
       "      <td>1</td>\n",
       "      <td>0</td>\n",
       "      <td>1</td>\n",
       "      <td>0</td>\n",
       "      <td>0</td>\n",
       "      <td>0</td>\n",
       "      <td>1</td>\n",
       "      <td>0</td>\n",
       "      <td>1</td>\n",
       "      <td>0</td>\n",
       "      <td>1</td>\n",
       "      <td>0</td>\n",
       "    </tr>\n",
       "  </tbody>\n",
       "</table>\n",
       "</div>"
      ],
      "text/plain": [
       "   placeID                            name  smoking_area  formal  informal  \\\n",
       "0   134999                 Kiku Cuernavaca             0       0         1   \n",
       "1   132825                 puesto de tacos             0       0         1   \n",
       "2   135106      El Rinc�n de San Francisco             1       0         1   \n",
       "3   132667  little pizza Emilio Portes Gil             0       0         1   \n",
       "4   132613                   carnitas_mata             1       0         1   \n",
       "\n",
       "   accessibility_none  accessibility_partial  budget_low  budget_medium  \\\n",
       "0                   1                      0           0              1   \n",
       "1                   0                      0           1              0   \n",
       "2                   0                      1           0              1   \n",
       "3                   0                      0           1              0   \n",
       "4                   0                      0           0              1   \n",
       "\n",
       "   ambience_quiet  franchise_t  area_open  alcohol_not_served  alcohol_served  \n",
       "0               0            0          0                   1               0  \n",
       "1               0            0          1                   1               0  \n",
       "2               0            0          1                   0               1  \n",
       "3               0            1          0                   1               0  \n",
       "4               0            1          0                   1               0  "
      ]
     },
     "execution_count": 44,
     "metadata": {},
     "output_type": "execute_result"
    }
   ],
   "source": [
    "restaurants.head()"
   ]
  },
  {
   "cell_type": "code",
   "execution_count": null,
   "metadata": {},
   "outputs": [],
   "source": []
  },
  {
   "cell_type": "code",
   "execution_count": null,
   "metadata": {},
   "outputs": [],
   "source": []
  },
  {
   "cell_type": "code",
   "execution_count": null,
   "metadata": {},
   "outputs": [],
   "source": []
  },
  {
   "cell_type": "code",
   "execution_count": null,
   "metadata": {},
   "outputs": [],
   "source": []
  }
 ],
 "metadata": {
  "kernelspec": {
   "display_name": "Python 3",
   "language": "python",
   "name": "python3"
  },
  "language_info": {
   "codemirror_mode": {
    "name": "ipython",
    "version": 3
   },
   "file_extension": ".py",
   "mimetype": "text/x-python",
   "name": "python",
   "nbconvert_exporter": "python",
   "pygments_lexer": "ipython3",
   "version": "3.7.4"
  }
 },
 "nbformat": 4,
 "nbformat_minor": 2
}
